{
 "cells": [
  {
   "cell_type": "code",
   "execution_count": 2,
   "id": "8b75a3f9",
   "metadata": {},
   "outputs": [],
   "source": [
    "import psycopg2\n",
    "import pymongo"
   ]
  },
  {
   "cell_type": "code",
   "execution_count": 3,
   "id": "f71d75fb",
   "metadata": {},
   "outputs": [
    {
     "name": "stdout",
     "output_type": "stream",
     "text": [
      "73.70.94.116"
     ]
    }
   ],
   "source": [
    "!curl ipecho.net/plain"
   ]
  },
  {
   "cell_type": "code",
   "execution_count": 4,
   "id": "562a1b2f",
   "metadata": {},
   "outputs": [],
   "source": [
    "password = \"BVIsO0ZO1GRSDnnr\"\n",
    "dbname = \"myFirstDatabase\""
   ]
  },
  {
   "cell_type": "code",
   "execution_count": 5,
   "id": "221557e0",
   "metadata": {},
   "outputs": [],
   "source": [
    "# Client that connects to MongoDB\n",
    "client = pymongo.MongoClient(\"mongodb+srv://rhiag-UbuntuOS:{}@cluster0.1bqaf.mongodb.net/{}?retryWrites=true&w=majority\"\n",
    ".format(password, dbname))"
   ]
  },
  {
   "cell_type": "code",
   "execution_count": 6,
   "id": "2c1af6a8",
   "metadata": {},
   "outputs": [
    {
     "data": {
      "text/plain": [
       "MongoClient(host=['cluster0-shard-00-02.1bqaf.mongodb.net:27017', 'cluster0-shard-00-00.1bqaf.mongodb.net:27017', 'cluster0-shard-00-01.1bqaf.mongodb.net:27017'], document_class=dict, tz_aware=False, connect=True, retrywrites=True, w='majority', authsource='admin', replicaset='atlas-hr5k0j-shard-0', ssl=True)"
      ]
     },
     "execution_count": 6,
     "metadata": {},
     "output_type": "execute_result"
    }
   ],
   "source": [
    "client"
   ]
  },
  {
   "cell_type": "code",
   "execution_count": 7,
   "id": "2a4f282e",
   "metadata": {},
   "outputs": [
    {
     "data": {
      "text/plain": [
       "Database(MongoClient(host=['cluster0-shard-00-02.1bqaf.mongodb.net:27017', 'cluster0-shard-00-00.1bqaf.mongodb.net:27017', 'cluster0-shard-00-01.1bqaf.mongodb.net:27017'], document_class=dict, tz_aware=False, connect=True, retrywrites=True, w='majority', authsource='admin', replicaset='atlas-hr5k0j-shard-0', ssl=True), 'myFirstDatabase')"
      ]
     },
     "execution_count": 7,
     "metadata": {},
     "output_type": "execute_result"
    }
   ],
   "source": [
    "#Create the database using client object\n",
    "db = client.myFirstDatabase\n",
    "db"
   ]
  },
  {
   "cell_type": "code",
   "execution_count": 8,
   "id": "6d3143e1",
   "metadata": {},
   "outputs": [
    {
     "data": {
      "text/plain": [
       "Collection(Database(MongoClient(host=['cluster0-shard-00-02.1bqaf.mongodb.net:27017', 'cluster0-shard-00-00.1bqaf.mongodb.net:27017', 'cluster0-shard-00-01.1bqaf.mongodb.net:27017'], document_class=dict, tz_aware=False, connect=True, retrywrites=True, w='majority', authsource='admin', replicaset='atlas-hr5k0j-shard-0', ssl=True), 'myFirstDatabase'), 'myFirstDatabase')"
      ]
     },
     "execution_count": 8,
     "metadata": {},
     "output_type": "execute_result"
    }
   ],
   "source": [
    "collection = db.myFirstDatabase\n",
    "collection"
   ]
  },
  {
   "cell_type": "code",
   "execution_count": 11,
   "id": "5780ea73",
   "metadata": {},
   "outputs": [
    {
     "data": {
      "text/plain": [
       "['_BaseObject__codec_options',\n",
       " '_BaseObject__read_concern',\n",
       " '_BaseObject__read_preference',\n",
       " '_BaseObject__write_concern',\n",
       " '_Collection__create',\n",
       " '_Collection__create_indexes',\n",
       " '_Collection__database',\n",
       " '_Collection__find_and_modify',\n",
       " '_Collection__full_name',\n",
       " '_Collection__name',\n",
       " '_Collection__write_response_codec_options',\n",
       " '__call__',\n",
       " '__class__',\n",
       " '__delattr__',\n",
       " '__dict__',\n",
       " '__dir__',\n",
       " '__doc__',\n",
       " '__eq__',\n",
       " '__format__',\n",
       " '__ge__',\n",
       " '__getattr__',\n",
       " '__getattribute__',\n",
       " '__getitem__',\n",
       " '__gt__',\n",
       " '__hash__',\n",
       " '__init__',\n",
       " '__init_subclass__',\n",
       " '__iter__',\n",
       " '__le__',\n",
       " '__lt__',\n",
       " '__module__',\n",
       " '__ne__',\n",
       " '__new__',\n",
       " '__next__',\n",
       " '__reduce__',\n",
       " '__reduce_ex__',\n",
       " '__repr__',\n",
       " '__setattr__',\n",
       " '__sizeof__',\n",
       " '__str__',\n",
       " '__subclasshook__',\n",
       " '__weakref__',\n",
       " '_aggregate',\n",
       " '_aggregate_one_result',\n",
       " '_command',\n",
       " '_count',\n",
       " '_delete',\n",
       " '_delete_retryable',\n",
       " '_insert',\n",
       " '_insert_one',\n",
       " '_legacy_write',\n",
       " '_map_reduce',\n",
       " '_read_preference_for',\n",
       " '_socket_for_reads',\n",
       " '_socket_for_writes',\n",
       " '_update',\n",
       " '_update_retryable',\n",
       " '_write_concern_for',\n",
       " '_write_concern_for_cmd',\n",
       " 'aggregate',\n",
       " 'aggregate_raw_batches',\n",
       " 'bulk_write',\n",
       " 'codec_options',\n",
       " 'count',\n",
       " 'count_documents',\n",
       " 'create_index',\n",
       " 'create_indexes',\n",
       " 'database',\n",
       " 'delete_many',\n",
       " 'delete_one',\n",
       " 'distinct',\n",
       " 'drop',\n",
       " 'drop_index',\n",
       " 'drop_indexes',\n",
       " 'ensure_index',\n",
       " 'estimated_document_count',\n",
       " 'find',\n",
       " 'find_and_modify',\n",
       " 'find_one',\n",
       " 'find_one_and_delete',\n",
       " 'find_one_and_replace',\n",
       " 'find_one_and_update',\n",
       " 'find_raw_batches',\n",
       " 'full_name',\n",
       " 'group',\n",
       " 'index_information',\n",
       " 'initialize_ordered_bulk_op',\n",
       " 'initialize_unordered_bulk_op',\n",
       " 'inline_map_reduce',\n",
       " 'insert',\n",
       " 'insert_many',\n",
       " 'insert_one',\n",
       " 'list_indexes',\n",
       " 'map_reduce',\n",
       " 'name',\n",
       " 'next',\n",
       " 'options',\n",
       " 'parallel_scan',\n",
       " 'read_concern',\n",
       " 'read_preference',\n",
       " 'reindex',\n",
       " 'remove',\n",
       " 'rename',\n",
       " 'replace_one',\n",
       " 'save',\n",
       " 'update',\n",
       " 'update_many',\n",
       " 'update_one',\n",
       " 'watch',\n",
       " 'with_options',\n",
       " 'write_concern']"
      ]
     },
     "execution_count": 11,
     "metadata": {},
     "output_type": "execute_result"
    }
   ],
   "source": [
    "#Gives all the methods associated with collection\n",
    "dir(collection)"
   ]
  },
  {
   "cell_type": "code",
   "execution_count": 12,
   "id": "02e3ee4c",
   "metadata": {},
   "outputs": [
    {
     "name": "stdout",
     "output_type": "stream",
     "text": [
      "Help on method insert_one in module pymongo.collection:\n",
      "\n",
      "insert_one(document, bypass_document_validation=False, session=None) method of pymongo.collection.Collection instance\n",
      "    Insert a single document.\n",
      "    \n",
      "      >>> db.test.count_documents({'x': 1})\n",
      "      0\n",
      "      >>> result = db.test.insert_one({'x': 1})\n",
      "      >>> result.inserted_id\n",
      "      ObjectId('54f112defba522406c9cc208')\n",
      "      >>> db.test.find_one({'x': 1})\n",
      "      {u'x': 1, u'_id': ObjectId('54f112defba522406c9cc208')}\n",
      "    \n",
      "    :Parameters:\n",
      "      - `document`: The document to insert. Must be a mutable mapping\n",
      "        type. If the document does not have an _id field one will be\n",
      "        added automatically.\n",
      "      - `bypass_document_validation`: (optional) If ``True``, allows the\n",
      "        write to opt-out of document level validation. Default is\n",
      "        ``False``.\n",
      "      - `session` (optional): a\n",
      "        :class:`~pymongo.client_session.ClientSession`.\n",
      "    \n",
      "    :Returns:\n",
      "      - An instance of :class:`~pymongo.results.InsertOneResult`.\n",
      "    \n",
      "    .. seealso:: :ref:`writes-and-ids`\n",
      "    \n",
      "    .. note:: `bypass_document_validation` requires server version\n",
      "      **>= 3.2**\n",
      "    \n",
      "    .. versionchanged:: 3.6\n",
      "       Added ``session`` parameter.\n",
      "    \n",
      "    .. versionchanged:: 3.2\n",
      "      Added bypass_document_validation support\n",
      "    \n",
      "    .. versionadded:: 3.0\n",
      "\n"
     ]
    }
   ],
   "source": [
    "help(collection.insert_one)"
   ]
  },
  {
   "cell_type": "code",
   "execution_count": 13,
   "id": "a1e3c269",
   "metadata": {},
   "outputs": [
    {
     "data": {
      "text/plain": [
       "0"
      ]
     },
     "execution_count": 13,
     "metadata": {},
     "output_type": "execute_result"
    }
   ],
   "source": [
    "collection.count_documents({'x':1})"
   ]
  },
  {
   "cell_type": "code",
   "execution_count": 16,
   "id": "e7c999fc",
   "metadata": {},
   "outputs": [
    {
     "data": {
      "text/plain": [
       "ObjectId('609c2a439e53edc24c2c17a5')"
      ]
     },
     "execution_count": 16,
     "metadata": {},
     "output_type": "execute_result"
    }
   ],
   "source": [
    "result = collection.insert_one({'x':1})\n",
    "result.inserted_id"
   ]
  },
  {
   "cell_type": "code",
   "execution_count": 17,
   "id": "c20f72c2",
   "metadata": {},
   "outputs": [
    {
     "data": {
      "text/plain": [
       "3"
      ]
     },
     "execution_count": 17,
     "metadata": {},
     "output_type": "execute_result"
    }
   ],
   "source": [
    "collection.count_documents({'x':1})"
   ]
  },
  {
   "cell_type": "code",
   "execution_count": 20,
   "id": "4d1f9579",
   "metadata": {},
   "outputs": [
    {
     "data": {
      "text/plain": [
       "{'_id': ObjectId('609c2a249e53edc24c2c17a3'), 'x': 1}"
      ]
     },
     "execution_count": 20,
     "metadata": {},
     "output_type": "execute_result"
    }
   ],
   "source": [
    "collection.find_one({'x':1})"
   ]
  },
  {
   "cell_type": "code",
   "execution_count": 21,
   "id": "82203cec",
   "metadata": {},
   "outputs": [
    {
     "data": {
      "text/plain": [
       "4"
      ]
     },
     "execution_count": 21,
     "metadata": {},
     "output_type": "execute_result"
    }
   ],
   "source": [
    "result = collection.insert_one({'x':1})\n",
    "collection.count_documents({'x':1})"
   ]
  },
  {
   "cell_type": "code",
   "execution_count": 22,
   "id": "ec4af821",
   "metadata": {},
   "outputs": [],
   "source": [
    "curs = collection.find({'x':1})"
   ]
  },
  {
   "cell_type": "code",
   "execution_count": 23,
   "id": "0fd29e7d",
   "metadata": {},
   "outputs": [
    {
     "data": {
      "text/plain": [
       "[{'_id': ObjectId('609c2a249e53edc24c2c17a3'), 'x': 1},\n",
       " {'_id': ObjectId('609c2a309e53edc24c2c17a4'), 'x': 1},\n",
       " {'_id': ObjectId('609c2a439e53edc24c2c17a5'), 'x': 1},\n",
       " {'_id': ObjectId('609c2ab99e53edc24c2c17a6'), 'x': 1}]"
      ]
     },
     "execution_count": 23,
     "metadata": {},
     "output_type": "execute_result"
    }
   ],
   "source": [
    "list(curs)"
   ]
  },
  {
   "cell_type": "code",
   "execution_count": 24,
   "id": "f8eec936",
   "metadata": {},
   "outputs": [
    {
     "data": {
      "text/plain": [
       "5"
      ]
     },
     "execution_count": 24,
     "metadata": {},
     "output_type": "execute_result"
    }
   ],
   "source": [
    "result = collection.insert_one({'x': 1, 'y': 2})\n",
    "\n",
    "# this counts all documents that contain 'x': 1\n",
    "collection.count_documents({'x': 1})"
   ]
  },
  {
   "cell_type": "code",
   "execution_count": 25,
   "id": "72bccb93",
   "metadata": {},
   "outputs": [
    {
     "data": {
      "text/plain": [
       "[{'_id': ObjectId('609c2a249e53edc24c2c17a3'), 'x': 1},\n",
       " {'_id': ObjectId('609c2a309e53edc24c2c17a4'), 'x': 1},\n",
       " {'_id': ObjectId('609c2a439e53edc24c2c17a5'), 'x': 1},\n",
       " {'_id': ObjectId('609c2ab99e53edc24c2c17a6'), 'x': 1},\n",
       " {'_id': ObjectId('609c2b059e53edc24c2c17a7'), 'x': 1, 'y': 2}]"
      ]
     },
     "execution_count": 25,
     "metadata": {},
     "output_type": "execute_result"
    }
   ],
   "source": [
    "list(collection.find())"
   ]
  },
  {
   "cell_type": "code",
   "execution_count": 26,
   "id": "3a4ac46e",
   "metadata": {},
   "outputs": [],
   "source": [
    "george_doc = {\n",
    "    'food': 'Spinach',\n",
    "    'color': 'teal',\n",
    "    'number': 6\n",
    "}\n",
    "\n",
    "tim_doc = {\n",
    "    'city': 'New York',\n",
    "    'number': [1, 3],\n",
    "    'color': 'teal'\n",
    "}\n",
    "\n",
    "all_docs = [george_doc, tim_doc]"
   ]
  },
  {
   "cell_type": "code",
   "execution_count": 27,
   "id": "1b2b5125",
   "metadata": {},
   "outputs": [
    {
     "data": {
      "text/plain": [
       "2"
      ]
     },
     "execution_count": 27,
     "metadata": {},
     "output_type": "execute_result"
    }
   ],
   "source": [
    "\n",
    "len(all_docs)"
   ]
  },
  {
   "cell_type": "code",
   "execution_count": 28,
   "id": "c9d59041",
   "metadata": {},
   "outputs": [
    {
     "data": {
      "text/plain": [
       "<pymongo.results.InsertManyResult at 0x7f7bd0559dc0>"
      ]
     },
     "execution_count": 28,
     "metadata": {},
     "output_type": "execute_result"
    }
   ],
   "source": [
    "collection.insert_many(all_docs)"
   ]
  },
  {
   "cell_type": "code",
   "execution_count": 29,
   "id": "1812aab3",
   "metadata": {},
   "outputs": [
    {
     "data": {
      "text/plain": [
       "[{'_id': ObjectId('609c2a249e53edc24c2c17a3'), 'x': 1},\n",
       " {'_id': ObjectId('609c2a309e53edc24c2c17a4'), 'x': 1},\n",
       " {'_id': ObjectId('609c2a439e53edc24c2c17a5'), 'x': 1},\n",
       " {'_id': ObjectId('609c2ab99e53edc24c2c17a6'), 'x': 1},\n",
       " {'_id': ObjectId('609c2b059e53edc24c2c17a7'), 'x': 1, 'y': 2},\n",
       " {'_id': ObjectId('609c2baa9e53edc24c2c17a8'),\n",
       "  'food': 'Spinach',\n",
       "  'color': 'teal',\n",
       "  'number': 6},\n",
       " {'_id': ObjectId('609c2baa9e53edc24c2c17a9'),\n",
       "  'city': 'New York',\n",
       "  'number': [1, 3],\n",
       "  'color': 'teal'}]"
      ]
     },
     "execution_count": 29,
     "metadata": {},
     "output_type": "execute_result"
    }
   ],
   "source": [
    "list(collection.find())"
   ]
  },
  {
   "cell_type": "code",
   "execution_count": 30,
   "id": "269995a6",
   "metadata": {},
   "outputs": [
    {
     "data": {
      "text/plain": [
       "[{'_id': ObjectId('609c2baa9e53edc24c2c17a8'),\n",
       "  'food': 'Spinach',\n",
       "  'color': 'teal',\n",
       "  'number': 6}]"
      ]
     },
     "execution_count": 30,
     "metadata": {},
     "output_type": "execute_result"
    }
   ],
   "source": [
    "list(collection.find({'food': 'Spinach'}))"
   ]
  },
  {
   "cell_type": "code",
   "execution_count": 31,
   "id": "6971ea6d",
   "metadata": {},
   "outputs": [
    {
     "data": {
      "text/plain": [
       "<pymongo.results.InsertManyResult at 0x7f7bd0f2c380>"
      ]
     },
     "execution_count": 31,
     "metadata": {},
     "output_type": "execute_result"
    }
   ],
   "source": [
    "more_docs = []\n",
    "for i in range(10):\n",
    "    doc = {\"even\": i%2 == 0}\n",
    "    doc['value'] = i \n",
    "    more_docs.append(doc)\n",
    "    \n",
    "collection.insert_many(more_docs)"
   ]
  },
  {
   "cell_type": "code",
   "execution_count": 32,
   "id": "4302945f",
   "metadata": {},
   "outputs": [
    {
     "data": {
      "text/plain": [
       "[{'_id': ObjectId('609c2a249e53edc24c2c17a3'), 'x': 1},\n",
       " {'_id': ObjectId('609c2a309e53edc24c2c17a4'), 'x': 1},\n",
       " {'_id': ObjectId('609c2a439e53edc24c2c17a5'), 'x': 1},\n",
       " {'_id': ObjectId('609c2ab99e53edc24c2c17a6'), 'x': 1},\n",
       " {'_id': ObjectId('609c2b059e53edc24c2c17a7'), 'x': 1, 'y': 2},\n",
       " {'_id': ObjectId('609c2baa9e53edc24c2c17a8'),\n",
       "  'food': 'Spinach',\n",
       "  'color': 'teal',\n",
       "  'number': 6},\n",
       " {'_id': ObjectId('609c2baa9e53edc24c2c17a9'),\n",
       "  'city': 'New York',\n",
       "  'number': [1, 3],\n",
       "  'color': 'teal'},\n",
       " {'_id': ObjectId('609c2bf19e53edc24c2c17aa'), 'even': True, 'value': 0},\n",
       " {'_id': ObjectId('609c2bf19e53edc24c2c17ab'), 'even': False, 'value': 1},\n",
       " {'_id': ObjectId('609c2bf19e53edc24c2c17ac'), 'even': True, 'value': 2},\n",
       " {'_id': ObjectId('609c2bf19e53edc24c2c17ad'), 'even': False, 'value': 3},\n",
       " {'_id': ObjectId('609c2bf19e53edc24c2c17ae'), 'even': True, 'value': 4},\n",
       " {'_id': ObjectId('609c2bf19e53edc24c2c17af'), 'even': False, 'value': 5},\n",
       " {'_id': ObjectId('609c2bf19e53edc24c2c17b0'), 'even': True, 'value': 6},\n",
       " {'_id': ObjectId('609c2bf19e53edc24c2c17b1'), 'even': False, 'value': 7},\n",
       " {'_id': ObjectId('609c2bf19e53edc24c2c17b2'), 'even': True, 'value': 8},\n",
       " {'_id': ObjectId('609c2bf19e53edc24c2c17b3'), 'even': False, 'value': 9}]"
      ]
     },
     "execution_count": 32,
     "metadata": {},
     "output_type": "execute_result"
    }
   ],
   "source": [
    "list(collection.find())"
   ]
  },
  {
   "cell_type": "code",
   "execution_count": 35,
   "id": "0bcdcc9b",
   "metadata": {},
   "outputs": [
    {
     "data": {
      "text/plain": [
       "<pymongo.results.InsertOneResult at 0x7f7bd05c3240>"
      ]
     },
     "execution_count": 35,
     "metadata": {},
     "output_type": "execute_result"
    }
   ],
   "source": [
    "collection.insert_one({'even': False, 'value': 20})"
   ]
  },
  {
   "cell_type": "code",
   "execution_count": 38,
   "id": "0d9698f2",
   "metadata": {},
   "outputs": [
    {
     "data": {
      "text/plain": [
       "<pymongo.results.UpdateResult at 0x7f7bd05c3900>"
      ]
     },
     "execution_count": 38,
     "metadata": {},
     "output_type": "execute_result"
    }
   ],
   "source": [
    "collection.update_one({'value': 20}, {'$inc': {'value':1}})"
   ]
  },
  {
   "cell_type": "code",
   "execution_count": 39,
   "id": "3e5dcb6e",
   "metadata": {},
   "outputs": [
    {
     "data": {
      "text/plain": [
       "[{'_id': ObjectId('609c2a249e53edc24c2c17a3'), 'x': 1},\n",
       " {'_id': ObjectId('609c2a309e53edc24c2c17a4'), 'x': 1},\n",
       " {'_id': ObjectId('609c2a439e53edc24c2c17a5'), 'x': 1},\n",
       " {'_id': ObjectId('609c2ab99e53edc24c2c17a6'), 'x': 1},\n",
       " {'_id': ObjectId('609c2b059e53edc24c2c17a7'), 'x': 1, 'y': 2},\n",
       " {'_id': ObjectId('609c2baa9e53edc24c2c17a8'),\n",
       "  'food': 'Spinach',\n",
       "  'color': 'teal',\n",
       "  'number': 6},\n",
       " {'_id': ObjectId('609c2baa9e53edc24c2c17a9'),\n",
       "  'city': 'New York',\n",
       "  'number': [1, 3],\n",
       "  'color': 'teal'},\n",
       " {'_id': ObjectId('609c2bf19e53edc24c2c17aa'), 'even': True, 'value': 0},\n",
       " {'_id': ObjectId('609c2bf19e53edc24c2c17ab'), 'even': False, 'value': 1},\n",
       " {'_id': ObjectId('609c2bf19e53edc24c2c17ac'), 'even': True, 'value': 2},\n",
       " {'_id': ObjectId('609c2bf19e53edc24c2c17ad'), 'even': False, 'value': 3},\n",
       " {'_id': ObjectId('609c2bf19e53edc24c2c17ae'), 'even': True, 'value': 4},\n",
       " {'_id': ObjectId('609c2bf19e53edc24c2c17af'), 'even': False, 'value': 5},\n",
       " {'_id': ObjectId('609c2bf19e53edc24c2c17b0'), 'even': True, 'value': 6},\n",
       " {'_id': ObjectId('609c2bf19e53edc24c2c17b1'), 'even': False, 'value': 7},\n",
       " {'_id': ObjectId('609c2bf19e53edc24c2c17b2'), 'even': True, 'value': 8},\n",
       " {'_id': ObjectId('609c2bf19e53edc24c2c17b3'), 'even': False, 'value': 9},\n",
       " {'_id': ObjectId('609c2c5d9e53edc24c2c17b4'), 'even': False, 'value': 21}]"
      ]
     },
     "execution_count": 39,
     "metadata": {},
     "output_type": "execute_result"
    }
   ],
   "source": [
    "list(collection.find())"
   ]
  },
  {
   "cell_type": "code",
   "execution_count": null,
   "id": "5485a3a4",
   "metadata": {},
   "outputs": [],
   "source": []
  }
 ],
 "metadata": {
  "kernelspec": {
   "display_name": "Python 3",
   "language": "python",
   "name": "python3"
  },
  "language_info": {
   "codemirror_mode": {
    "name": "ipython",
    "version": 3
   },
   "file_extension": ".py",
   "mimetype": "text/x-python",
   "name": "python",
   "nbconvert_exporter": "python",
   "pygments_lexer": "ipython3",
   "version": "3.8.5"
  }
 },
 "nbformat": 4,
 "nbformat_minor": 5
}
